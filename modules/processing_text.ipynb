{
 "cells": [
  {
   "cell_type": "markdown",
   "metadata": {},
   "source": [
    "## Testando o pré-processamento nos textos"
   ]
  },
  {
   "cell_type": "code",
   "execution_count": 9,
   "metadata": {},
   "outputs": [],
   "source": [
    "import re\n",
    "import cv2 as cv\n",
    "import numpy as np\n",
    "from text_detect import TextDetect\n",
    "from pdfConverter import pdfConverter\n",
    "from glob import glob"
   ]
  },
  {
   "cell_type": "code",
   "execution_count": 3,
   "metadata": {},
   "outputs": [],
   "source": [
    "# imgs = sorted(glob('/home/vitoria/Área de Trabalho/Sistemas de Informação/2020.2/PDSI II/Exemplos de CVs/exemplos_cvs_imagens/*'))\n",
    "\n",
    "# for i, img in enumerate(imgs):\n",
    "#     print(f'{i}: {img.split(\"/\")[-1]}')"
   ]
  },
  {
   "cell_type": "markdown",
   "metadata": {},
   "source": [
    "### PyTesseract"
   ]
  },
  {
   "cell_type": "code",
   "execution_count": 2,
   "metadata": {
    "tags": []
   },
   "outputs": [
    {
     "output_type": "stream",
     "name": "stdout",
     "text": "0: CV - Adriano.pdf\n1: CV - Açucena.pdf\n2: CV - Hidel.pdf\n3: CV - Jederson.pdf\n4: CV - Myllena.pdf\n5: CV - Patrick.pdf\n6: CV - Vitória.pdf\n7: Curriculo Kayena Borges.pdf\n8: example1.pdf\n9: example2.pdf\n10: example3.pdf\n11: example4.pdf\n12: linkedin_acucena.pdf\n"
    }
   ],
   "source": [
    "pdfs = sorted(glob('/home/vitoria/Área de Trabalho/Sistemas de Informação/2020.2/PDSI II/Exemplos de CVs/todos_pdfs/*.pdf'))\n",
    "\n",
    "for i, pdf in enumerate(pdfs):\n",
    "    print(f'{i}: {pdf.split(\"/\")[-1]}')"
   ]
  },
  {
   "cell_type": "code",
   "execution_count": null,
   "metadata": {},
   "outputs": [],
   "source": [
    "dt = TextDetect(r'D:\\src\\OCR\\tesseract.exe')"
   ]
  },
  {
   "cell_type": "code",
   "execution_count": null,
   "metadata": {},
   "outputs": [],
   "source": [
    "pages = pdfConverter(pdfs[12])\n",
    "\n",
    "data = []\n",
    "for img in pages:\n",
    "    data += dt.get_data(np.array(img))\n",
    "\n",
    "# img = cv.imread(imgs[21])\n",
    "# img = cv.cvtColor(img, cv.COLOR_BGR2RGB)\n",
    "\n",
    "# data = dt.get_data(np.array(img))"
   ]
  },
  {
   "cell_type": "markdown",
   "metadata": {},
   "source": [
    "## Testando as funções implementadas no módulo processing_text"
   ]
  },
  {
   "cell_type": "markdown",
   "metadata": {},
   "source": [
    "### Fitz"
   ]
  },
  {
   "cell_type": "code",
   "execution_count": 4,
   "metadata": {},
   "outputs": [],
   "source": [
    "import processing_text as pt"
   ]
  },
  {
   "cell_type": "code",
   "execution_count": 5,
   "metadata": {},
   "outputs": [
    {
     "output_type": "execute_result",
     "data": {
      "text/plain": "{'Dados pessoais': {'Nome': 'Adriano O. L. Rocha',\n  'Data de nascimento': '22/09/1998',\n  'Contato': {'Telefones': ['89 981282620'],\n   'Email': 'adriano.olr@gmail.com',\n   'GitHub': 'https://github.com/SkyLkr',\n   'LinkedIn': '',\n   'Outros': []},\n  'Endereço': {'Endereço': 'Rua Monsenhor Hipólito, 226 Picos, PI',\n   'CEP': '64600-104'}},\n 'Idiomas': [],\n 'Experiências profissionais': 'JurisfAI Estágio como desenvolvedor FrontEnd na Startup JurisfAI Período: 09/2020 até 02/2021',\n 'Formação': ['Técnico em Informática',\n  'Sistemas de Informação',\n  'Experiência em criação de interfaces para a web com HTML',\n  'Monitor , UFPI- CSHNB']}"
     },
     "metadata": {},
     "execution_count": 5
    }
   ],
   "source": [
    "pt.extract_info_from_pdf('/home/vitoria/Área de Trabalho/Sistemas de Informação/2020.2/PDSI II/Exemplos de CVs/todos_pdfs/CV - Adriano.pdf')"
   ]
  },
  {
   "cell_type": "code",
   "execution_count": 6,
   "metadata": {},
   "outputs": [
    {
     "output_type": "execute_result",
     "data": {
      "text/plain": "{'Dados pessoais': {'Nome': 'Patrick R. S. Santos',\n  'Data de nascimento': '05/01/1999',\n  'Contato': {'Telefones': ['89 99911-7351'],\n   'Email': 'sales@ufpi.edu.br',\n   'GitHub': 'https://github.com/SalesRyan/My-Portfolio',\n   'LinkedIn': 'https://www.linkedin.com/in/ryan-sales-2b10141a6/',\n   'Outros': ['http://lattes.cnpq.br/6944781068896428']},\n  'Endereço': {'Endereço': 'Quadra 01 (Conj Waldemar M Santos) Parque Industrial - Picos/PI',\n   'CEP': ''}},\n 'Idiomas': ['Português fluente', 'Inglês Intermediário'],\n 'Experiências profissionais': 'Projeto — Desenvolvedor Python/Cientista de Dados DESDE 03/2018 à 07/2018 Desenvolvimento de uma ferramenta CAD para diagnóstico de Melanoma e carcinomas em geral, projeto foi desenvolvido no laboratório de pesquisa aplicada a Visão e Inteligência Computacional PAVIC - UFPI, atuando como desenvolvedor de métodos de machine learning e deep learning, aplicados a imagens médicas. Projeto — Desenvolvedor Python/Cientista de Dados DESDE 08/2018 à 12/2018 Desenvolvimento de métodos para segmentação de lesões de pele, projeto foi desenvolvido no laboratório de pesquisa aplicada a Visão e Inteligência Computacional PAVIC - UFPI, atuando como desenvolvedor de métodos de processamento de imagens e visão computacional. Projeto — Desenvolvedor Python/Cientista de Dados DESDE 03/2020 à 06/2020 Desenvolvimento de uma ferramenta CAD para diagnóstico de glaucoma, projeto foi desenvolvido no laboratório de pesquisa aplicada a Visão e',\n 'Formação': ['Engenharia Elétrica',\n  'Sistemas de Informação',\n  'Monitor , UFPI- CSHNB',\n  'Publicações, SINFO - CSHNB',\n  'Pesquisa, UFPI - CSHNB']}"
     },
     "metadata": {},
     "execution_count": 6
    }
   ],
   "source": [
    "pt.extract_info_from_pdf('/home/vitoria/Área de Trabalho/Sistemas de Informação/2020.2/PDSI II/Exemplos de CVs/todos_pdfs/CV - Patrick.pdf')"
   ]
  },
  {
   "cell_type": "code",
   "execution_count": 7,
   "metadata": {},
   "outputs": [
    {
     "output_type": "execute_result",
     "data": {
      "text/plain": "{'Dados pessoais': {'Nome': '',\n  'Data de nascimento': '',\n  'Contato': {'Telefones': [],\n   'Email': 'acucenarodrigues1998@gmail.com',\n   'GitHub': '',\n   'LinkedIn': 'www.linkedin.com/in/acucena-rodrigues',\n   'Outros': []},\n  'Endereço': {'Endereço': 'Francês (Elementary) Certifications', 'CEP': ''}},\n 'Idiomas': ['Espanhol (Limited Working)',\n  'Inglês (Professional Working)',\n  'Francês (Elementary)'],\n 'Experiências profissionais': 'Rocketmat AI Intern in Data Science novembro de 2020 - Present (6 meses) Belo Horizonte, Minas Gerais, Brasil Universidade Federal do Piauí Bolsista de Iniciação Científica agosto de 2018 - agosto de 2020 (2 anos 1 mês) Picos, Piauí, Brasil Atuando como bolsista de Iniciação científica na Universidade Federal do Piauí realizando pesquisas na área de processamento de imagens.',\n 'Formação': ['Análise de dados Python',\n  'AceleraDev Data Science',\n  'Bacharelado, Sistemas de Informação']}"
     },
     "metadata": {},
     "execution_count": 7
    }
   ],
   "source": [
    "pt.extract_info_from_pdf('/home/vitoria/Área de Trabalho/Sistemas de Informação/2020.2/PDSI II/Exemplos de CVs/todos_pdfs/linkedin_acucena.pdf')"
   ]
  },
  {
   "cell_type": "code",
   "execution_count": 8,
   "metadata": {},
   "outputs": [],
   "source": [
    "# Data de nascimento - OK\n",
    "# Idioma (procurar ocorrências da palavra idioma e usar ela como um offset) - OK\n",
    "# Tentar pesquisar por experiência e depois fazer slices no texto - OK\n",
    "# Detecta nomes de universidade (o primeiro que aparecer é a que a pessoa estudou). Procurar padrões de palavras-chave que identificam se a instituição é de formação ou de trabalho. curso x cargo (posso ver se antes da instituição aparece cargo ou curso)"
   ]
  },
  {
   "cell_type": "markdown",
   "metadata": {},
   "source": [
    "## Testando o modelo NER"
   ]
  },
  {
   "cell_type": "code",
   "execution_count": 10,
   "metadata": {},
   "outputs": [],
   "source": [
    "import re\n",
    "import numpy as np\n",
    "import fitz\n",
    "import spacy"
   ]
  },
  {
   "cell_type": "code",
   "execution_count": 11,
   "metadata": {},
   "outputs": [],
   "source": [
    "def extract_info_from_pdf(pdf_path):\n",
    "    with fitz.open(pdf_path) as pdf:\n",
    "        text = ''\n",
    "\n",
    "        for page in pdf:\n",
    "            text += page.getText()\n",
    "            #text += page.getText().replace('●', '').replace('�', '').replace('•', '').replace('\\u200b', '')\n",
    "\n",
    "    #text =  ' '.join(text.replace('\\n', ' ').split()).replace('. com', '.com').replace('a- ', 'a-')\n",
    "    return text"
   ]
  },
  {
   "cell_type": "code",
   "execution_count": 13,
   "metadata": {},
   "outputs": [],
   "source": [
    "nlp = spacy.load(R\"./ner_model/model-best\") #load the best model"
   ]
  },
  {
   "cell_type": "code",
   "execution_count": 16,
   "metadata": {},
   "outputs": [
    {
     "output_type": "display_data",
     "data": {
      "text/plain": "<IPython.core.display.HTML object>",
      "text/html": "<span class=\"tex2jax_ignore\"><div class=\"entities\" style=\"line-height: 2.5; direction: ltr\">\n<mark class=\"entity\" style=\"background: #ddd; padding: 0.45em 0.6em; margin: 0 0.25em; line-height: 1; border-radius: 0.35em;\">\n    Açucena Rodrigues dos\nSantos Soares\n    <span style=\"font-size: 0.8em; font-weight: bold; line-height: 1; border-radius: 0.35em; vertical-align: middle; margin-left: 0.5rem\">nome</span>\n</mark>\n</br>\n<mark class=\"entity\" style=\"background: #ddd; padding: 0.45em 0.6em; margin: 0 0.25em; line-height: 1; border-radius: 0.35em;\">\n    Cientista de Dados\n    <span style=\"font-size: 0.8em; font-weight: bold; line-height: 1; border-radius: 0.35em; vertical-align: middle; margin-left: 0.5rem\">cargo</span>\n</mark>\n</br>\n<mark class=\"entity\" style=\"background: #ddd; padding: 0.45em 0.6em; margin: 0 0.25em; line-height: 1; border-radius: 0.35em;\">\n    Q. 15, Casa 01, Apt. 302A, Parque Piauí\nTeresina, PI\n    <span style=\"font-size: 0.8em; font-weight: bold; line-height: 1; border-radius: 0.35em; vertical-align: middle; margin-left: 0.5rem\">endereco</span>\n</mark>\n, 64025-050</br>(86) 99587-3053</br>Email:</br>acucenarodrigues1998@gmail.com</br>\n<mark class=\"entity\" style=\"background: #7aecec; padding: 0.45em 0.6em; margin: 0 0.25em; line-height: 1; border-radius: 0.35em;\">\n    COMPETÊNCIAS\n    <span style=\"font-size: 0.8em; font-weight: bold; line-height: 1; border-radius: 0.35em; vertical-align: middle; margin-left: 0.5rem\">org</span>\n</mark>\n</br>Tenho conhecimentos em análise exploratória e pré-processamento de dados,</br>trabalhei por 3 anos com pesquisas na área de visão computacional utilizando</br>técnicas de machine learning e deep learning. Além disso, possuo nível</br>intermediário de inglês e possuo facilidade em aprender processos com a</br>prática. Possuo experiência com as linguagens Python e R.</br>EXPERIÊNCIA</br>\n<mark class=\"entity\" style=\"background: #7aecec; padding: 0.45em 0.6em; margin: 0 0.25em; line-height: 1; border-radius: 0.35em;\">\n    Rocketmat AI, Belo Horizonte - MG\n    <span style=\"font-size: 0.8em; font-weight: bold; line-height: 1; border-radius: 0.35em; vertical-align: middle; margin-left: 0.5rem\">org</span>\n</mark>\n - \n<mark class=\"entity\" style=\"background: #ddd; padding: 0.45em 0.6em; margin: 0 0.25em; line-height: 1; border-radius: 0.35em;\">\n    Estagiária de Ciência de Dados\n    <span style=\"font-size: 0.8em; font-weight: bold; line-height: 1; border-radius: 0.35em; vertical-align: middle; margin-left: 0.5rem\">cargo</span>\n</mark>\n</br>DESDE NOVEMBRO DE 2020</br>●</br>Processamento de dados utilizando a linguagem Python</br>●</br>\n<mark class=\"entity\" style=\"background: #ddd; padding: 0.45em 0.6em; margin: 0 0.25em; line-height: 1; border-radius: 0.35em;\">\n    Análise exploratória e pré-processamento de dados\n    <span style=\"font-size: 0.8em; font-weight: bold; line-height: 1; border-radius: 0.35em; vertical-align: middle; margin-left: 0.5rem\">curso</span>\n</mark>\n.</br>●</br>Utilização de ferramentas de machine learning.</br>●</br>Aplicação de metodologia ágeis no contexto da ciência de dados</br>\n<mark class=\"entity\" style=\"background: #7aecec; padding: 0.45em 0.6em; margin: 0 0.25em; line-height: 1; border-radius: 0.35em;\">\n    Universidade Federal do Piauí - UFPI\n    <span style=\"font-size: 0.8em; font-weight: bold; line-height: 1; border-radius: 0.35em; vertical-align: middle; margin-left: 0.5rem\">org</span>\n</mark>\n, \n<mark class=\"entity\" style=\"background: #ddd; padding: 0.45em 0.6em; margin: 0 0.25em; line-height: 1; border-radius: 0.35em;\">\n    Picos - PI\n    <span style=\"font-size: 0.8em; font-weight: bold; line-height: 1; border-radius: 0.35em; vertical-align: middle; margin-left: 0.5rem\">endereco</span>\n</mark>\n - \n<mark class=\"entity\" style=\"background: #ddd; padding: 0.45em 0.6em; margin: 0 0.25em; line-height: 1; border-radius: 0.35em;\">\n    Bolsista de Pesquisa\n    <span style=\"font-size: 0.8em; font-weight: bold; line-height: 1; border-radius: 0.35em; vertical-align: middle; margin-left: 0.5rem\">cargo</span>\n</mark>\n</br>AGOSTO DE 2018 - SETEMBRO 2020</br>●</br>Processamento de dados utilizando a linguagem Python</br>●</br>\n<mark class=\"entity\" style=\"background: #ddd; padding: 0.45em 0.6em; margin: 0 0.25em; line-height: 1; border-radius: 0.35em;\">\n    Desenvolvimento de pesquisa com foco em segmentação de imagens\n    <span style=\"font-size: 0.8em; font-weight: bold; line-height: 1; border-radius: 0.35em; vertical-align: middle; margin-left: 0.5rem\">cargo</span>\n</mark>\n</br>médicas.</br>●</br>\n<mark class=\"entity\" style=\"background: #ddd; padding: 0.45em 0.6em; margin: 0 0.25em; line-height: 1; border-radius: 0.35em;\">\n    Análise exploratória e pré-processamento de dados\n    <span style=\"font-size: 0.8em; font-weight: bold; line-height: 1; border-radius: 0.35em; vertical-align: middle; margin-left: 0.5rem\">curso</span>\n</mark>\n.</br>●</br>Utilização de ferramentas de machine learning com foco em</br>clusterização e classificação.</br>●</br>Utilização de ferramentas de Deep Learning (\n<mark class=\"entity\" style=\"background: #ddd; padding: 0.45em 0.6em; margin: 0 0.25em; line-height: 1; border-radius: 0.35em;\">\n    Redes Neurais\n    <span style=\"font-size: 0.8em; font-weight: bold; line-height: 1; border-radius: 0.35em; vertical-align: middle; margin-left: 0.5rem\">curso</span>\n</mark>\n</br>\n<mark class=\"entity\" style=\"background: #ddd; padding: 0.45em 0.6em; margin: 0 0.25em; line-height: 1; border-radius: 0.35em;\">\n    Convolucionais).\n    <span style=\"font-size: 0.8em; font-weight: bold; line-height: 1; border-radius: 0.35em; vertical-align: middle; margin-left: 0.5rem\">curso</span>\n</mark>\n</br>\n<mark class=\"entity\" style=\"background: #7aecec; padding: 0.45em 0.6em; margin: 0 0.25em; line-height: 1; border-radius: 0.35em;\">\n    Start Coding\n    <span style=\"font-size: 0.8em; font-weight: bold; line-height: 1; border-radius: 0.35em; vertical-align: middle; margin-left: 0.5rem\">org</span>\n</mark>\n, \n<mark class=\"entity\" style=\"background: #ddd; padding: 0.45em 0.6em; margin: 0 0.25em; line-height: 1; border-radius: 0.35em;\">\n    Teresina - PI\n    <span style=\"font-size: 0.8em; font-weight: bold; line-height: 1; border-radius: 0.35em; vertical-align: middle; margin-left: 0.5rem\">endereco</span>\n</mark>\n - \n<mark class=\"entity\" style=\"background: #ddd; padding: 0.45em 0.6em; margin: 0 0.25em; line-height: 1; border-radius: 0.35em;\">\n    Voluntária\n    <span style=\"font-size: 0.8em; font-weight: bold; line-height: 1; border-radius: 0.35em; vertical-align: middle; margin-left: 0.5rem\">cargo</span>\n</mark>\n</br>\n<mark class=\"entity\" style=\"background: #7aecec; padding: 0.45em 0.6em; margin: 0 0.25em; line-height: 1; border-radius: 0.35em;\">\n    DESDE ABRIL DE 2020\n    <span style=\"font-size: 0.8em; font-weight: bold; line-height: 1; border-radius: 0.35em; vertical-align: middle; margin-left: 0.5rem\">org</span>\n</mark>\n</br>●</br>\n<mark class=\"entity\" style=\"background: #ddd; padding: 0.45em 0.6em; margin: 0 0.25em; line-height: 1; border-radius: 0.35em;\">\n    Desenvolvimento de atividades de incentivo ao ingresso de mulheres\n    <span style=\"font-size: 0.8em; font-weight: bold; line-height: 1; border-radius: 0.35em; vertical-align: middle; margin-left: 0.5rem\">cargo</span>\n</mark>\n</br>em áreas da tecnologia.</br>●</br>Promoção de eventos, cursos preparatórios e outros conteúdos.</br>EDUCAÇÃO</br>\n<mark class=\"entity\" style=\"background: #7aecec; padding: 0.45em 0.6em; margin: 0 0.25em; line-height: 1; border-radius: 0.35em;\">\n    Universidade Federal do Piauí - UFPI\n    <span style=\"font-size: 0.8em; font-weight: bold; line-height: 1; border-radius: 0.35em; vertical-align: middle; margin-left: 0.5rem\">org</span>\n</mark>\n, \n<mark class=\"entity\" style=\"background: #ddd; padding: 0.45em 0.6em; margin: 0 0.25em; line-height: 1; border-radius: 0.35em;\">\n    Picos - PI\n    <span style=\"font-size: 0.8em; font-weight: bold; line-height: 1; border-radius: 0.35em; vertical-align: middle; margin-left: 0.5rem\">endereco</span>\n</mark>\n - \n<mark class=\"entity\" style=\"background: #ddd; padding: 0.45em 0.6em; margin: 0 0.25em; line-height: 1; border-radius: 0.35em;\">\n    Bacharelado em\nSistemas de Informação\n    <span style=\"font-size: 0.8em; font-weight: bold; line-height: 1; border-radius: 0.35em; vertical-align: middle; margin-left: 0.5rem\">curso</span>\n</mark>\n</br>MARÇO DE 2017 - MARÇO DE 2021</br>Graduação em nível superior em \n<mark class=\"entity\" style=\"background: #ddd; padding: 0.45em 0.6em; margin: 0 0.25em; line-height: 1; border-radius: 0.35em;\">\n    Sistemas de Informação\n    <span style=\"font-size: 0.8em; font-weight: bold; line-height: 1; border-radius: 0.35em; vertical-align: middle; margin-left: 0.5rem\">curso</span>\n</mark>\n pela \n<mark class=\"entity\" style=\"background: #7aecec; padding: 0.45em 0.6em; margin: 0 0.25em; line-height: 1; border-radius: 0.35em;\">\n    Universidade\nFederal do Piauí\n    <span style=\"font-size: 0.8em; font-weight: bold; line-height: 1; border-radius: 0.35em; vertical-align: middle; margin-left: 0.5rem\">org</span>\n</mark>\n.</br>FORMAÇÃO ADICIONAL</br>Codenation - Online - AceleraDev Data Science</br>ABRIL DE 2020 - JUNHO DE 2020</br>Curso de aceleração para a formação de profissionais em ciência de dados,</br>no curso foi estudado todo o processo de dados, desde a aquisição até a</br>criação de modelos de machine learning.</br></div></span>"
     },
     "metadata": {}
    }
   ],
   "source": [
    "doc = nlp(\n",
    "    extract_info_from_pdf('/home/vitoria/Área de Trabalho/Sistemas de Informação/2020.2/PDSI II/Exemplos de CVs/todos_pdfs/CV - Açucena.pdf')\n",
    ") # input sample text\n",
    "\n",
    "spacy.displacy.render(doc, style=\"ent\", jupyter=True)"
   ]
  },
  {
   "cell_type": "code",
   "execution_count": 14,
   "metadata": {},
   "outputs": [
    {
     "output_type": "display_data",
     "data": {
      "text/plain": "<IPython.core.display.HTML object>",
      "text/html": "<span class=\"tex2jax_ignore\"><div class=\"entities\" style=\"line-height: 2.5; direction: ltr\">\n<mark class=\"entity\" style=\"background: #ddd; padding: 0.45em 0.6em; margin: 0 0.25em; line-height: 1; border-radius: 0.35em;\">\n    VITÓRIA DE CARVALHO BRITO\n    <span style=\"font-size: 0.8em; font-weight: bold; line-height: 1; border-radius: 0.35em; vertical-align: middle; margin-left: 0.5rem\">nome</span>\n</mark>\n</br>Graduanda em \n<mark class=\"entity\" style=\"background: #ddd; padding: 0.45em 0.6em; margin: 0 0.25em; line-height: 1; border-radius: 0.35em;\">\n    Sistemas de Informação\n    <span style=\"font-size: 0.8em; font-weight: bold; line-height: 1; border-radius: 0.35em; vertical-align: middle; margin-left: 0.5rem\">curso</span>\n</mark>\n pela \n<mark class=\"entity\" style=\"background: #7aecec; padding: 0.45em 0.6em; margin: 0 0.25em; line-height: 1; border-radius: 0.35em;\">\n    Universidade Federal do Piauí\n    <span style=\"font-size: 0.8em; font-weight: bold; line-height: 1; border-radius: 0.35em; vertical-align: middle; margin-left: 0.5rem\">org</span>\n</mark>\n</br>\n<mark class=\"entity\" style=\"background: #ddd; padding: 0.45em 0.6em; margin: 0 0.25em; line-height: 1; border-radius: 0.35em;\">\n    � vitoriiacb@gmail.com\n    <span style=\"font-size: 0.8em; font-weight: bold; line-height: 1; border-radius: 0.35em; vertical-align: middle; margin-left: 0.5rem\">curso</span>\n</mark>\n</br>� +55 89 99405-1780</br>\n<mark class=\"entity\" style=\"background: #ddd; padding: 0.45em 0.6em; margin: 0 0.25em; line-height: 1; border-radius: 0.35em;\">\n    � https://github.com/VitoriaCarvalho\n    <span style=\"font-size: 0.8em; font-weight: bold; line-height: 1; border-radius: 0.35em; vertical-align: middle; margin-left: 0.5rem\">curso</span>\n</mark>\n</br>� https://www.linkedin.com/in/vitória-carvalho-90210b19a</br>\n<mark class=\"entity\" style=\"background: #7aecec; padding: 0.45em 0.6em; margin: 0 0.25em; line-height: 1; border-radius: 0.35em;\">\n    PROCURANDO POR\n    <span style=\"font-size: 0.8em; font-weight: bold; line-height: 1; border-radius: 0.35em; vertical-align: middle; margin-left: 0.5rem\">org</span>\n</mark>\n</br>” Uma oportunidade profissional onde</br>eu possa contribuir na solução de</br>problemas que envolvam Inteligência</br>Artificial, Visão Computacional e/ou</br>Processamento de Imagens e Textos.</br>Desejo contribuir para o</br>desenvolvimento da empresa e</br>aprimorar minhas habilidades técnicas</br>e profissionais. ”</br>\n<mark class=\"entity\" style=\"background: #7aecec; padding: 0.45em 0.6em; margin: 0 0.25em; line-height: 1; border-radius: 0.35em;\">\n    HABILIDADES\n    <span style=\"font-size: 0.8em; font-weight: bold; line-height: 1; border-radius: 0.35em; vertical-align: middle; margin-left: 0.5rem\">org</span>\n</mark>\n</br>\n<mark class=\"entity\" style=\"background: #ddd; padding: 0.45em 0.6em; margin: 0 0.25em; line-height: 1; border-radius: 0.35em;\">\n    TÉCNICAS\n    <span style=\"font-size: 0.8em; font-weight: bold; line-height: 1; border-radius: 0.35em; vertical-align: middle; margin-left: 0.5rem\">cargo</span>\n</mark>\n</br>• Experiência com pesquisa científica;</br>• Desenvolvimento em Python, C e Java;</br>• Conhecimentos sobre Machine Learning, Deep</br>Learning, Visão Computacional,</br>Processamento de Imagens e Processamento</br>de Linguagem Natural;</br>• Experiência com Redes Neurais</br>\n<mark class=\"entity\" style=\"background: #ddd; padding: 0.45em 0.6em; margin: 0 0.25em; line-height: 1; border-radius: 0.35em;\">\n    Convolucionais;\n    <span style=\"font-size: 0.8em; font-weight: bold; line-height: 1; border-radius: 0.35em; vertical-align: middle; margin-left: 0.5rem\">curso</span>\n</mark>\n</br>• Experiência com utilização de NumPy, \n<mark class=\"entity\" style=\"background: #ddd; padding: 0.45em 0.6em; margin: 0 0.25em; line-height: 1; border-radius: 0.35em;\">\n    Pandas,\nMatplotlib, Seaborn\n    <span style=\"font-size: 0.8em; font-weight: bold; line-height: 1; border-radius: 0.35em; vertical-align: middle; margin-left: 0.5rem\">curso</span>\n</mark>\n, Scikit-learn, Keras, NLTK,</br>SpaCy e OpenCV;</br>• Conhecimento básico de PyTorch;</br>• Conhecimentos sobre Bancos de Dados e</br>experiência com MySQL e Firebase;</br>• Experiência com desenvolvimento de Web</br>Scrapings;</br>• Experiência com Git para versionamento de</br>código.</br>\n<mark class=\"entity\" style=\"background: #7aecec; padding: 0.45em 0.6em; margin: 0 0.25em; line-height: 1; border-radius: 0.35em;\">\n    COMPETÊNCIAS\n    <span style=\"font-size: 0.8em; font-weight: bold; line-height: 1; border-radius: 0.35em; vertical-align: middle; margin-left: 0.5rem\">org</span>\n</mark>\n</br>Proatividade</br>Organização</br>Trabalho em equipe</br>Liderança</br>Desejo de aprender</br>\n<mark class=\"entity\" style=\"background: #7aecec; padding: 0.45em 0.6em; margin: 0 0.25em; line-height: 1; border-radius: 0.35em;\">\n    Flexibilidade e adaptabilidade\n    <span style=\"font-size: 0.8em; font-weight: bold; line-height: 1; border-radius: 0.35em; vertical-align: middle; margin-left: 0.5rem\">org</span>\n</mark>\n</br>EDUCAÇÃO</br>\n<mark class=\"entity\" style=\"background: #ddd; padding: 0.45em 0.6em; margin: 0 0.25em; line-height: 1; border-radius: 0.35em;\">\n    Mestrado em Engenharia Elétrica\n    <span style=\"font-size: 0.8em; font-weight: bold; line-height: 1; border-radius: 0.35em; vertical-align: middle; margin-left: 0.5rem\">curso</span>\n</mark>\n (aluna especial)</br>\n<mark class=\"entity\" style=\"background: #7aecec; padding: 0.45em 0.6em; margin: 0 0.25em; line-height: 1; border-radius: 0.35em;\">\n    Universidade Federal do Piauí - UFPI\n    <span style=\"font-size: 0.8em; font-weight: bold; line-height: 1; border-radius: 0.35em; vertical-align: middle; margin-left: 0.5rem\">org</span>\n</mark>\n</br>� 2020 - Presente</br>� Picos-PI, Brasil</br>\n<mark class=\"entity\" style=\"background: #ddd; padding: 0.45em 0.6em; margin: 0 0.25em; line-height: 1; border-radius: 0.35em;\">\n    Bacharelado em Sistemas de Informação\n    <span style=\"font-size: 0.8em; font-weight: bold; line-height: 1; border-radius: 0.35em; vertical-align: middle; margin-left: 0.5rem\">curso</span>\n</mark>\n</br>\n<mark class=\"entity\" style=\"background: #7aecec; padding: 0.45em 0.6em; margin: 0 0.25em; line-height: 1; border-radius: 0.35em;\">\n    Universidade Federal do Piauí - UFPI\n    <span style=\"font-size: 0.8em; font-weight: bold; line-height: 1; border-radius: 0.35em; vertical-align: middle; margin-left: 0.5rem\">org</span>\n</mark>\n</br>\n<mark class=\"entity\" style=\"background: #ddd; padding: 0.45em 0.6em; margin: 0 0.25em; line-height: 1; border-radius: 0.35em;\">\n    � 2017 - Presente\n    <span style=\"font-size: 0.8em; font-weight: bold; line-height: 1; border-radius: 0.35em; vertical-align: middle; margin-left: 0.5rem\">curso</span>\n</mark>\n (formanda)</br>� Picos-PI, Brasil</br>\n<mark class=\"entity\" style=\"background: #7aecec; padding: 0.45em 0.6em; margin: 0 0.25em; line-height: 1; border-radius: 0.35em;\">\n    IDIOMAS\n    <span style=\"font-size: 0.8em; font-weight: bold; line-height: 1; border-radius: 0.35em; vertical-align: middle; margin-left: 0.5rem\">org</span>\n</mark>\n</br>\n<mark class=\"entity\" style=\"background: #ddd; padding: 0.45em 0.6em; margin: 0 0.25em; line-height: 1; border-radius: 0.35em;\">\n    • Português nativo;\n    <span style=\"font-size: 0.8em; font-weight: bold; line-height: 1; border-radius: 0.35em; vertical-align: middle; margin-left: 0.5rem\">curso</span>\n</mark>\n</br>• Inglês intermediário.</br>EXPERIÊNCIA PROFISSIONAL</br>\n<mark class=\"entity\" style=\"background: #ddd; padding: 0.45em 0.6em; margin: 0 0.25em; line-height: 1; border-radius: 0.35em;\">\n    Pesquisadora em Visão e Inteligência Computacional\n    <span style=\"font-size: 0.8em; font-weight: bold; line-height: 1; border-radius: 0.35em; vertical-align: middle; margin-left: 0.5rem\">cargo</span>\n</mark>\n</br>\n<mark class=\"entity\" style=\"background: #7aecec; padding: 0.45em 0.6em; margin: 0 0.25em; line-height: 1; border-radius: 0.35em;\">\n    Universidade Federal do Piauí\n    <span style=\"font-size: 0.8em; font-weight: bold; line-height: 1; border-radius: 0.35em; vertical-align: middle; margin-left: 0.5rem\">org</span>\n</mark>\n</br>� 2018 - Presente</br>� Picos - PI, Brasil</br>Durante o período de Iniciação Científica, participei do</br>desenvolvimento de alguns projetos na área de Visão Computacional,</br>como:</br>• Segmentação de lesões de pele utilizando Superpixel e Quality Threshold</br>(QT);</br>• Classificação de lesões de pele usando índices de diversidade filogenética na</br>extração de características e avaliando os classificadores Random Forest,</br>MLP e SMO através da ferramenta Weka;</br>• Classificação de imagens de retina em glaucomatosas e saudáveis usando a</br>arquitetura CapsNet, disponível no meu GitHub;</br>• Classificação de lesões provocadas pela COVID-19 usando índices de</br>diversidade filogenética como descritores e avaliando os classificadores</br>\n<mark class=\"entity\" style=\"background: #ddd; padding: 0.45em 0.6em; margin: 0 0.25em; line-height: 1; border-radius: 0.35em;\">\n    Random Forest e XGBoost\n    <span style=\"font-size: 0.8em; font-weight: bold; line-height: 1; border-radius: 0.35em; vertical-align: middle; margin-left: 0.5rem\">cargo</span>\n</mark>\n. Neste trabalho, utilizamos uma base de imagens</br>de tomografia computadorizada do pulmão, que nos possibilitou uma</br>experiência com manipulação de imagens 3D;</br>• Classificação de lesões provocadas pela COVID-19 usando uma arquitetura</br>\n<mark class=\"entity\" style=\"background: #7aecec; padding: 0.45em 0.6em; margin: 0 0.25em; line-height: 1; border-radius: 0.35em;\">\n    VGG16 3D;\n    <span style=\"font-size: 0.8em; font-weight: bold; line-height: 1; border-radius: 0.35em; vertical-align: middle; margin-left: 0.5rem\">org</span>\n</mark>\n</br>• Segmentação de lesões provocadas pela COVID-19 em regiões do pulmão,</br>através da arquitetura UNet em união a vários backbones da biblioteca</br>segmentation_models;</br>• Experimentos com vários modelos de CNNs através das técnicas de Transfer</br>Learning e Fine Tuning.</br>\n<mark class=\"entity\" style=\"background: #ddd; padding: 0.45em 0.6em; margin: 0 0.25em; line-height: 1; border-radius: 0.35em;\">\n    Estagiária em Processamento de Linguagem Natural e\nMachine Learning\n    <span style=\"font-size: 0.8em; font-weight: bold; line-height: 1; border-radius: 0.35em; vertical-align: middle; margin-left: 0.5rem\">cargo</span>\n</mark>\n</br>Lawtech \n<mark class=\"entity\" style=\"background: #7aecec; padding: 0.45em 0.6em; margin: 0 0.25em; line-height: 1; border-radius: 0.35em;\">\n    JurisfAI\n    <span style=\"font-size: 0.8em; font-weight: bold; line-height: 1; border-radius: 0.35em; vertical-align: middle; margin-left: 0.5rem\">org</span>\n</mark>\n</br>\n<mark class=\"entity\" style=\"background: #ddd; padding: 0.45em 0.6em; margin: 0 0.25em; line-height: 1; border-radius: 0.35em;\">\n    � Jul\n    <span style=\"font-size: 0.8em; font-weight: bold; line-height: 1; border-radius: 0.35em; vertical-align: middle; margin-left: 0.5rem\">curso</span>\n</mark>\n. 2020 - Fev. 2021</br>� Santos - SP, Brasil (remoto)</br>Durante o período de estágio, participei do desenvolvimento de várias</br>tarefas relacionadas ao processamento de textos jurídicos, como:</br>• Pré-processamento de textos, que envolvia tarefas como remoção de</br>stopwords, acentuação, pontuação, etc;</br>• Extração de palavras-chave dentro de ementas jurídicas, aplicando várias</br>\n<mark class=\"entity\" style=\"background: #ddd; padding: 0.45em 0.6em; margin: 0 0.25em; line-height: 1; border-radius: 0.35em;\">\n    técnicas de pré-processamento para extrair somente o texto relevante e\nranquear as palavras-chave através da biblioteca NLTK;\n    <span style=\"font-size: 0.8em; font-weight: bold; line-height: 1; border-radius: 0.35em; vertical-align: middle; margin-left: 0.5rem\">cargo</span>\n</mark>\n</br>• Desenvolvimento de web scrapings para consulta de leis e coleta de</br>jurisprudências em portais públicos. Nestas tarefas, utilizei as bibliotecas</br>requests_html, BeautifulSoup e selenium. O primeiro deles está</br>publicamente disponível no meu GitHub.;</br>• Classificação de jurisprudências de acordo com as áreas do direito. Essa</br>tarefa foi a mais desafiadora do estágio, devido os textos dessas áreas</br>possuírem bastante semelhança entre si. Nesta tarefa, eu testei diversas</br>abordagens para caracterizar os textos, como Word2Vec, CountVectorizer,</br>Doc2Vec e Tf-idf. Para a classificação, experimentei modelos de redes</br>neurais, classificadores comuns e até mesmo uma SiameseNet para analisar a</br>similaridade entre os textos de uma mesma área. Também testei técnicas de</br>clusterização para tentar agrupar os textos em áreas comuns e até mesmo</br>técnicas de aprendizado semi-supervisionado, como LabelPropagation e</br>LabelSpreading;</br>• Utilização de expressões regulares (regex) em diversas tarefas de</br>processamento de texto;</br>• Experiência com Named-entity recognition (NER), tanto na anotação de</br>entidades, quanto no treinamento de um modelo NER através da biblioteca</br>spacy;</br>• Organização de datasets de acordo com o que precisávamos para construir</br>os modelos.</br>\n<mark class=\"entity\" style=\"background: #7aecec; padding: 0.45em 0.6em; margin: 0 0.25em; line-height: 1; border-radius: 0.35em;\">\n    CERTIFICADOS\n    <span style=\"font-size: 0.8em; font-weight: bold; line-height: 1; border-radius: 0.35em; vertical-align: middle; margin-left: 0.5rem\">org</span>\n</mark>\n</br>• Concluiu o curso &quot;Python Fundamentos para Análise de Dados&quot;, na \n<mark class=\"entity\" style=\"background: #7aecec; padding: 0.45em 0.6em; margin: 0 0.25em; line-height: 1; border-radius: 0.35em;\">\n    Data\nScience Academy - fev\n    <span style=\"font-size: 0.8em; font-weight: bold; line-height: 1; border-radius: 0.35em; vertical-align: middle; margin-left: 0.5rem\">org</span>\n</mark>\n. 2021;</br>• Concluiu o curso &quot;Introduction to TensorFlow for Artificial Intelligence,</br>\n<mark class=\"entity\" style=\"background: #ddd; padding: 0.45em 0.6em; margin: 0 0.25em; line-height: 1; border-radius: 0.35em;\">\n    Machine Learning\n    <span style=\"font-size: 0.8em; font-weight: bold; line-height: 1; border-radius: 0.35em; vertical-align: middle; margin-left: 0.5rem\">cargo</span>\n</mark>\n, and Deep Learning&quot;, na \n<mark class=\"entity\" style=\"background: #7aecec; padding: 0.45em 0.6em; margin: 0 0.25em; line-height: 1; border-radius: 0.35em;\">\n    Coursera - jul\n    <span style=\"font-size: 0.8em; font-weight: bold; line-height: 1; border-radius: 0.35em; vertical-align: middle; margin-left: 0.5rem\">org</span>\n</mark>\n. 2020;</br>\n<mark class=\"entity\" style=\"background: #7aecec; padding: 0.45em 0.6em; margin: 0 0.25em; line-height: 1; border-radius: 0.35em;\">\n    PUBLICAÇÕES CIENTÍFICAS\n    <span style=\"font-size: 0.8em; font-weight: bold; line-height: 1; border-radius: 0.35em; vertical-align: middle; margin-left: 0.5rem\">org</span>\n</mark>\n</br>A Capsule Network-based for identification of Glaucoma in</br>retinal images</br>\n<mark class=\"entity\" style=\"background: #7aecec; padding: 0.45em 0.6em; margin: 0 0.25em; line-height: 1; border-radius: 0.35em;\">\n    IEEE Symposium on Computers and Communications\n    <span style=\"font-size: 0.8em; font-weight: bold; line-height: 1; border-radius: 0.35em; vertical-align: middle; margin-left: 0.5rem\">org</span>\n</mark>\n (ISCC)</br>\n<mark class=\"entity\" style=\"background: #ddd; padding: 0.45em 0.6em; margin: 0 0.25em; line-height: 1; border-radius: 0.35em;\">\n    � Out\n    <span style=\"font-size: 0.8em; font-weight: bold; line-height: 1; border-radius: 0.35em; vertical-align: middle; margin-left: 0.5rem\">endereco</span>\n</mark>\n. 2020</br>Neste trabalho, exploramos a arquitetura Capsule Network (CapsNet)</br>para a classificação de imagens de retina em glaucomatosas e</br>saudáveis. Utilizamos a linguagem Python e o framework Tensorflow</br>para o desenvolvimento dos algoritmos, disponíveis em meu GitHub.</br>Descritores de Textura Aplicados à Caracterização e</br>Classificação de Lesões de Pele</br>\n<mark class=\"entity\" style=\"background: #ddd; padding: 0.45em 0.6em; margin: 0 0.25em; line-height: 1; border-radius: 0.35em;\">\n    Anais Eletrônicos do X Simpósio de Sistemas de Informação\n    <span style=\"font-size: 0.8em; font-weight: bold; line-height: 1; border-radius: 0.35em; vertical-align: middle; margin-left: 0.5rem\">cargo</span>\n</mark>\n (SINFO)</br>2019 - ISBN nº 978-65-00-00628-5</br>\n<mark class=\"entity\" style=\"background: #ddd; padding: 0.45em 0.6em; margin: 0 0.25em; line-height: 1; border-radius: 0.35em;\">\n    � Out\n    <span style=\"font-size: 0.8em; font-weight: bold; line-height: 1; border-radius: 0.35em; vertical-align: middle; margin-left: 0.5rem\">curso</span>\n</mark>\n. 2019</br>Neste trabalho, utilizamos índices taxonômicos como descritores de</br>textura para caracterizar imagens de lesões de pele e posteriormente</br>classificarmos em melanoma e não melanoma. Utilizamos a linguagem</br>Python e a ferramenta Weka para o desenvolvimento dos algoritmos.</br>Técnicas de Extração de Atributos Aplicadas ao</br>Processamento de Imagens</br>\n<mark class=\"entity\" style=\"background: #ddd; padding: 0.45em 0.6em; margin: 0 0.25em; line-height: 1; border-radius: 0.35em;\">\n    Anais Eletrônicos do X Simpósio de Sistemas de Informação\n    <span style=\"font-size: 0.8em; font-weight: bold; line-height: 1; border-radius: 0.35em; vertical-align: middle; margin-left: 0.5rem\">curso</span>\n</mark>\n (SINFO)</br>2019 - ISBN nº 978-65-00-00628-5</br>\n<mark class=\"entity\" style=\"background: #ddd; padding: 0.45em 0.6em; margin: 0 0.25em; line-height: 1; border-radius: 0.35em;\">\n    � Out\n    <span style=\"font-size: 0.8em; font-weight: bold; line-height: 1; border-radius: 0.35em; vertical-align: middle; margin-left: 0.5rem\">curso</span>\n</mark>\n. 2019</br>Este capítulo de livro foi um compilado do minicurso a qual ministramos</br>no SINFO 2019 sobre extração de características de imagens. Os</br>descritores apresentados foram os índices taxonômicos, a GLCM e as</br>características extraídas de uma CNN por meio da técnica de Transfer</br>Learning. Utilizamos a linguagem Python, o framework Tensorflow e a</br>ferramenta Weka para o desenvolvimento dos algoritmos, disponíveis</br>no meu GitHub.</br></div></span>"
     },
     "metadata": {}
    }
   ],
   "source": [
    "doc = nlp(\n",
    "    extract_info_from_pdf('/home/vitoria/Área de Trabalho/Sistemas de Informação/2020.2/PDSI II/Exemplos de CVs/todos_pdfs/CV - Vitória.pdf')\n",
    ") # input sample text\n",
    "\n",
    "spacy.displacy.render(doc, style=\"ent\", jupyter=True)"
   ]
  },
  {
   "cell_type": "code",
   "execution_count": null,
   "metadata": {},
   "outputs": [],
   "source": []
  }
 ],
 "metadata": {
  "language_info": {
   "codemirror_mode": {
    "name": "ipython",
    "version": 3
   },
   "file_extension": ".py",
   "mimetype": "text/x-python",
   "name": "python",
   "nbconvert_exporter": "python",
   "pygments_lexer": "ipython3",
   "version": "3.9.4-final"
  },
  "orig_nbformat": 2,
  "kernelspec": {
   "name": "python39264bitocrconda238bbe84a5f447789964bb10004b897e",
   "display_name": "Python 3.9.2 64-bit ('ocr': conda)"
  }
 },
 "nbformat": 4,
 "nbformat_minor": 2
}