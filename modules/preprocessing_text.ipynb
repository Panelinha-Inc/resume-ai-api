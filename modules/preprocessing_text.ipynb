{
 "cells": [
  {
   "cell_type": "markdown",
   "metadata": {},
   "source": [
    "## Testando o pré-processamento nos textos"
   ]
  },
  {
   "cell_type": "code",
   "execution_count": null,
   "metadata": {},
   "outputs": [],
   "source": [
    "import re\n",
    "import spacy\n",
    "import cv2 as cv\n",
    "import numpy as np\n",
    "from text_detect import TextDetect\n",
    "from pdfConverter import pdfConverter\n",
    "from glob import glob"
   ]
  },
  {
   "cell_type": "code",
   "execution_count": null,
   "metadata": {
    "tags": []
   },
   "outputs": [],
   "source": [
    "imgs = sorted(glob('/home/vitoria/Área de Trabalho/Sistemas de Informação/2020.2/PDSI II/Exemplos de CVs/exemplos_cvs_imagens/*'))\n",
    "\n",
    "for i, img in enumerate(imgs):\n",
    "    print(f'{i}: {img.split(\"/\")[-1]}')"
   ]
  },
  {
   "cell_type": "code",
   "execution_count": null,
   "metadata": {
    "tags": []
   },
   "outputs": [],
   "source": [
    "pdfs = sorted(glob('/home/vitoria/Área de Trabalho/Sistemas de Informação/2020.2/PDSI II/Exemplos de CVs/todos_pdfs/*.pdf'))\n",
    "\n",
    "for i, pdf in enumerate(pdfs):\n",
    "    print(f'{i}: {pdf.split(\"/\")[-1]}')"
   ]
  },
  {
   "cell_type": "code",
   "execution_count": null,
   "metadata": {},
   "outputs": [],
   "source": [
    "dt = TextDetect(r'D:\\src\\OCR\\tesseract.exe')"
   ]
  },
  {
   "cell_type": "code",
   "execution_count": null,
   "metadata": {},
   "outputs": [],
   "source": [
    "pages = pdfConverter(pdfs[12])\n",
    "\n",
    "data = []\n",
    "for img in pages:\n",
    "    data += dt.get_data(np.array(img))\n",
    "\n",
    "# img = cv.imread(imgs[21])\n",
    "# img = cv.cvtColor(img, cv.COLOR_BGR2RGB)\n",
    "\n",
    "# data = dt.get_data(np.array(img))"
   ]
  },
  {
   "cell_type": "code",
   "execution_count": null,
   "metadata": {
    "tags": [
     "outputPrepend"
    ]
   },
   "outputs": [],
   "source": [
    "print(data)"
   ]
  },
  {
   "cell_type": "markdown",
   "metadata": {},
   "source": [
    "## Testando as funções implementadas no módulo processing_text"
   ]
  },
  {
   "cell_type": "code",
   "execution_count": 1,
   "metadata": {},
   "outputs": [],
   "source": [
    "import processing_text as pt"
   ]
  },
  {
   "cell_type": "code",
   "execution_count": 3,
   "metadata": {},
   "outputs": [
    {
     "output_type": "execute_result",
     "data": {
      "text/plain": "{'Dados pessoais': {'Contato': {'email': {'telefones': ['89 99911-7351'],\n    'email': 'sales@ufpi.edu.br',\n    'github': 'https://github.com/SalesRyan/My-Portfolio',\n    'linkedin': 'https://www.linkedin.com/in/ryan-sales-2b10141a6/',\n    'outros': 'http://lattes.cnpq.br/6944781068896428'}},\n  'Endereço': {'CEP': ''}}}"
     },
     "metadata": {},
     "execution_count": 3
    }
   ],
   "source": [
    "pt.extract_info_from_pdf('/home/vitoria/Área de Trabalho/Sistemas de Informação/2020.2/PDSI II/Exemplos de CVs/todos_pdfs/CV - Patrick.pdf')"
   ]
  },
  {
   "cell_type": "code",
   "execution_count": null,
   "metadata": {},
   "outputs": [],
   "source": []
  }
 ],
 "metadata": {
  "language_info": {
   "codemirror_mode": {
    "name": "ipython",
    "version": 3
   },
   "file_extension": ".py",
   "mimetype": "text/x-python",
   "name": "python",
   "nbconvert_exporter": "python",
   "pygments_lexer": "ipython3",
   "version": "3.9.4-final"
  },
  "orig_nbformat": 2,
  "kernelspec": {
   "name": "python39264bitocrconda238bbe84a5f447789964bb10004b897e",
   "display_name": "Python 3.9.2 64-bit ('ocr': conda)"
  }
 },
 "nbformat": 4,
 "nbformat_minor": 2
}