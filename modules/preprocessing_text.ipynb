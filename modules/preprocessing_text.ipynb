{
 "cells": [
  {
   "cell_type": "markdown",
   "metadata": {},
   "source": [
    "## Testando o pré-processamento nos textos"
   ]
  },
  {
   "cell_type": "code",
   "execution_count": 1,
   "metadata": {},
   "outputs": [],
   "source": [
    "import re\n",
    "import spacy\n",
    "import cv2 as cv\n",
    "import numpy as np\n",
    "from text_detect import TextDetect\n",
    "from pdfConverter import pdfConverter\n",
    "from glob import glob"
   ]
  },
  {
   "cell_type": "code",
   "execution_count": 2,
   "metadata": {
    "tags": []
   },
   "outputs": [
    {
     "output_type": "stream",
     "name": "stdout",
     "text": "0: example1.png\n1: example10.jpg\n2: example11.jpg\n3: example12.jpg\n4: example13.jpg\n5: example14.jpg\n6: example15.jpg\n7: example16.jpg\n8: example17.png\n9: example18.jpg\n10: example19.jpg\n11: example2.png\n12: example20.jpg\n13: example21.jpg\n14: example22.jpg\n15: example3.png\n16: example4.png\n17: example5.jpg\n18: example6.png\n19: example7.jpg\n20: example8.jpg\n21: example9.jpg\n"
    }
   ],
   "source": [
    "imgs = sorted(glob('/home/vitoria/Área de Trabalho/Sistemas de Informação/2020.2/PDSI II/Exemplos de CVs/exemplos_cvs_imagens/*'))\n",
    "\n",
    "for i, img in enumerate(imgs):\n",
    "    print(f'{i}: {img.split(\"/\")[-1]}')"
   ]
  },
  {
   "cell_type": "code",
   "execution_count": 3,
   "metadata": {
    "tags": []
   },
   "outputs": [
    {
     "output_type": "stream",
     "name": "stdout",
     "text": "0: CV - Adriano.pdf\n1: CV - Açucena.pdf\n2: CV - Hidel.pdf\n3: CV - Jederson.pdf\n4: CV - Myllena.pdf\n5: CV - Patrick.pdf\n6: CV - Vitória.pdf\n7: Curriculo Kayena Borges.pdf\n8: example1.pdf\n9: example2.pdf\n10: example3.pdf\n11: example4.pdf\n12: linkedin_acucena.pdf\n"
    }
   ],
   "source": [
    "pdfs = sorted(glob('/home/vitoria/Área de Trabalho/Sistemas de Informação/2020.2/PDSI II/Exemplos de CVs/todos_pdfs/*.pdf'))\n",
    "\n",
    "for i, pdf in enumerate(pdfs):\n",
    "    print(f'{i}: {pdf.split(\"/\")[-1]}')"
   ]
  },
  {
   "cell_type": "code",
   "execution_count": 5,
   "metadata": {},
   "outputs": [],
   "source": [
    "dt = TextDetect(r'D:\\src\\OCR\\tesseract.exe')"
   ]
  },
  {
   "cell_type": "code",
   "execution_count": 6,
   "metadata": {},
   "outputs": [],
   "source": [
    "pages = pdfConverter(pdfs[12])\n",
    "\n",
    "data = []\n",
    "for img in pages:\n",
    "    data += dt.get_data(np.array(img))\n",
    "\n",
    "# img = cv.imread(imgs[21])\n",
    "# img = cv.cvtColor(img, cv.COLOR_BGR2RGB)\n",
    "\n",
    "# data = dt.get_data(np.array(img))"
   ]
  },
  {
   "cell_type": "code",
   "execution_count": 7,
   "metadata": {
    "tags": [
     "outputPrepend"
    ]
   },
   "outputs": [
    {
     "output_type": "stream",
     "name": "stdout",
     "text": "47, 'height': 37, 'conf': 96, 'text': 'ênfase'}, {'level': 5, 'page_num': 1, 'block_num': 17, 'par_num': 1, 'line_num': 2, 'word_num': 5, 'left': 1492, 'top': 1036, 'width': 76, 'height': 28, 'conf': 96, 'text': 'nas'}, {'level': 5, 'page_num': 1, 'block_num': 17, 'par_num': 1, 'line_num': 2, 'word_num': 6, 'left': 1586, 'top': 1029, 'width': 146, 'height': 44, 'conf': 96, 'text': 'etapas'}, {'level': 5, 'page_num': 1, 'block_num': 17, 'par_num': 1, 'line_num': 2, 'word_num': 7, 'left': 1750, 'top': 1027, 'width': 51, 'height': 37, 'conf': 93, 'text': 'de'}, {'level': 5, 'page_num': 1, 'block_num': 17, 'par_num': 1, 'line_num': 2, 'word_num': 8, 'left': 1820, 'top': 1027, 'width': 426, 'height': 46, 'conf': 91, 'text': 'pré-processamento'}, {'level': 5, 'page_num': 1, 'block_num': 17, 'par_num': 1, 'line_num': 2, 'word_num': 9, 'left': 2264, 'top': 1037, 'width': 24, 'height': 27, 'conf': 95, 'text': 'e'}, {'level': 5, 'page_num': 1, 'block_num': 17, 'par_num': 1, 'line_num': 3, 'word_num': 1, 'left': 933, 'top': 1102, 'width': 307, 'height': 47, 'conf': 96, 'text': 'segmentação.'}, {'level': 5, 'page_num': 1, 'block_num': 18, 'par_num': 1, 'line_num': 1, 'word_num': 1, 'left': 932, 'top': 1252, 'width': 139, 'height': 37, 'conf': 96, 'text': 'Tenho'}, {'level': 5, 'page_num': 1, 'block_num': 18, 'par_num': 1, 'line_num': 1, 'word_num': 2, 'left': 1090, 'top': 1262, 'width': 62, 'height': 27, 'conf': 96, 'text': 'um'}, {'level': 5, 'page_num': 1, 'block_num': 18, 'par_num': 1, 'line_num': 1, 'word_num': 3, 'left': 1173, 'top': 1252, 'width': 90, 'height': 37, 'conf': 96, 'text': 'bom'}, {'level': 5, 'page_num': 1, 'block_num': 18, 'par_num': 1, 'line_num': 1, 'word_num': 4, 'left': 1284, 'top': 1252, 'width': 254, 'height': 47, 'conf': 96, 'text': 'background'}, {'level': 5, 'page_num': 1, 'block_num': 18, 'par_num': 1, 'line_num': 1, 'word_num': 5, 'left': 1558, 'top': 1262, 'width': 64, 'height': 27, 'conf': 96, 'text': 'em'}, {'level': 5, 'page_num': 1, 'block_num': 18, 'par_num': 1, 'line_num': 1, 'word_num': 6, 'left': 1642, 'top': 1252, 'width': 254, 'height': 37, 'conf': 95, 'text': 'matemática'}, {'level': 5, 'page_num': 1, 'block_num': 18, 'par_num': 1, 'line_num': 1, 'word_num': 7, 'left': 1914, 'top': 1262, 'width': 24, 'height': 27, 'conf': 96, 'text': 'e'}, {'level': 5, 'page_num': 1, 'block_num': 18, 'par_num': 1, 'line_num': 1, 'word_num': 8, 'left': 1955, 'top': 1252, 'width': 232, 'height': 37, 'conf': 96, 'text': 'estatística.'}, {'level': 5, 'page_num': 1, 'block_num': 18, 'par_num': 1, 'line_num': 1, 'word_num': 9, 'left': 2208, 'top': 1252, 'width': 83, 'height': 37, 'conf': 96, 'text': 'Sou'}, {'level': 5, 'page_num': 1, 'block_num': 18, 'par_num': 1, 'line_num': 1, 'word_num': 10, 'left': 2312, 'top': 1261, 'width': 92, 'height': 28, 'conf': 96, 'text': 'uma'}, {'level': 5, 'page_num': 1, 'block_num': 18, 'par_num': 1, 'line_num': 2, 'word_num': 1, 'left': 933, 'top': 1327, 'width': 189, 'height': 46, 'conf': 96, 'text': 'aprendiz'}, {'level': 5, 'page_num': 1, 'block_num': 18, 'par_num': 1, 'line_num': 2, 'word_num': 2, 'left': 1140, 'top': 1327, 'width': 134, 'height': 46, 'conf': 96, 'text': 'rápida'}, {'level': 5, 'page_num': 1, 'block_num': 18, 'par_num': 1, 'line_num': 2, 'word_num': 3, 'left': 1291, 'top': 1337, 'width': 24, 'height': 27, 'conf': 96, 'text': 'e'}, {'level': 5, 'page_num': 1, 'block_num': 18, 'par_num': 1, 'line_num': 2, 'word_num': 4, 'left': 1333, 'top': 1327, 'width': 169, 'height': 47, 'conf': 96, 'text': 'consigo'}, {'level': 5, 'page_num': 1, 'block_num': 18, 'par_num': 1, 'line_num': 2, 'word_num': 5, 'left': 1520, 'top': 1337, 'width': 65, 'height': 27, 'conf': 96, 'text': 'me'}, {'level': 5, 'page_num': 1, 'block_num': 18, 'par_num': 1, 'line_num': 2, 'word_num': 6, 'left': 1603, 'top': 1327, 'width': 167, 'height': 46, 'conf': 96, 'text': 'adaptar'}, {'level': 5, 'page_num': 1, 'block_num': 18, 'par_num': 1, 'line_num': 2, 'word_num': 7, 'left': 1787, 'top': 1327, 'width': 90, 'height': 37, 'conf': 96, 'text': 'bem'}, {'level': 5, 'page_num': 1, 'block_num': 18, 'par_num': 1, 'line_num': 2, 'word_num': 8, 'left': 1897, 'top': 1336, 'width': 24, 'height': 28, 'conf': 96, 'text': 'a'}, {'level': 5, 'page_num': 1, 'block_num': 18, 'par_num': 1, 'line_num': 2, 'word_num': 9, 'left': 1940, 'top': 1336, 'width': 128, 'height': 28, 'conf': 96, 'text': 'novas'}, {'level': 5, 'page_num': 1, 'block_num': 18, 'par_num': 1, 'line_num': 2, 'word_num': 10, 'left': 2085, 'top': 1327, 'width': 250, 'height': 47, 'conf': 96, 'text': 'tecnologias'}, {'level': 5, 'page_num': 1, 'block_num': 18, 'par_num': 1, 'line_num': 2, 'word_num': 11, 'left': 2353, 'top': 1337, 'width': 24, 'height': 27, 'conf': 96, 'text': 'e'}, {'level': 5, 'page_num': 1, 'block_num': 18, 'par_num': 1, 'line_num': 3, 'word_num': 1, 'left': 934, 'top': 1412, 'width': 128, 'height': 27, 'conf': 96, 'text': 'novos'}, {'level': 5, 'page_num': 1, 'block_num': 18, 'par_num': 1, 'line_num': 3, 'word_num': 2, 'left': 1080, 'top': 1402, 'width': 196, 'height': 37, 'conf': 96, 'text': 'cenários.'}, {'level': 5, 'page_num': 1, 'block_num': 19, 'par_num': 1, 'line_num': 1, 'word_num': 1, 'left': 936, 'top': 1614, 'width': 335, 'height': 61, 'conf': 95, 'text': 'Experiência'}, {'level': 5, 'page_num': 1, 'block_num': 20, 'par_num': 1, 'line_num': 1, 'word_num': 1, 'left': 935, 'top': 1753, 'width': 234, 'height': 37, 'conf': 92, 'text': 'Rocketmat'}, {'level': 5, 'page_num': 1, 'block_num': 20, 'par_num': 1, 'line_num': 1, 'word_num': 2, 'left': 1184, 'top': 1753, 'width': 42, 'height': 36, 'conf': 96, 'text': 'Al'}, {'level': 5, 'page_num': 1, 'block_num': 20, 'par_num': 1, 'line_num': 2, 'word_num': 1, 'left': 935, 'top': 1822, 'width': 116, 'height': 35, 'conf': 96, 'text': 'Intern'}, {'level': 5, 'page_num': 1, 'block_num': 20, 'par_num': 1, 'line_num': 2, 'word_num': 2, 'left': 1070, 'top': 1822, 'width': 31, 'height': 34, 'conf': 96, 'text': 'in'}, {'level': 5, 'page_num': 1, 'block_num': 20, 'par_num': 1, 'line_num': 2, 'word_num': 3, 'left': 1121, 'top': 1822, 'width': 96, 'height': 35, 'conf': 96, 'text': 'Data'}, {'level': 5, 'page_num': 1, 'block_num': 20, 'par_num': 1, 'line_num': 2, 'word_num': 4, 'left': 1234, 'top': 1821, 'width': 166, 'height': 36, 'conf': 96, 'text': 'Science'}, {'level': 5, 'page_num': 1, 'block_num': 20, 'par_num': 1, 'line_num': 3, 'word_num': 1, 'left': 934, 'top': 1886, 'width': 190, 'height': 32, 'conf': 96, 'text': 'novembro'}, {'level': 5, 'page_num': 1, 'block_num': 20, 'par_num': 1, 'line_num': 3, 'word_num': 2, 'left': 1140, 'top': 1886, 'width': 45, 'height': 32, 'conf': 96, 'text': 'de'}, {'level': 5, 'page_num': 1, 'block_num': 20, 'par_num': 1, 'line_num': 3, 'word_num': 3, 'left': 1199, 'top': 1886, 'width': 94, 'height': 32, 'conf': 92, 'text': '2020'}, {'level': 5, 'page_num': 1, 'block_num': 20, 'par_num': 1, 'line_num': 3, 'word_num': 4, 'left': 1309, 'top': 1904, 'width': 12, 'height': 4, 'conf': 92, 'text': '-'}, {'level': 5, 'page_num': 1, 'block_num': 20, 'par_num': 1, 'line_num': 3, 'word_num': 5, 'left': 1338, 'top': 1886, 'width': 147, 'height': 32, 'conf': 96, 'text': 'Present'}, {'level': 5, 'page_num': 1, 'block_num': 20, 'par_num': 1, 'line_num': 3, 'word_num': 6, 'left': 1500, 'top': 1885, 'width': 35, 'height': 41, 'conf': 96, 'text': '(6'}, {'level': 5, 'page_num': 1, 'block_num': 20, 'par_num': 1, 'line_num': 3, 'word_num': 7, 'left': 1551, 'top': 1885, 'width': 138, 'height': 41, 'conf': 96, 'text': 'meses)'}, {'level': 5, 'page_num': 1, 'block_num': 21, 'par_num': 1, 'line_num': 1, 'word_num': 1, 'left': 935, 'top': 2116, 'width': 286, 'height': 37, 'conf': 96, 'text': 'Universidade'}, {'level': 5, 'page_num': 1, 'block_num': 21, 'par_num': 1, 'line_num': 1, 'word_num': 2, 'left': 1241, 'top': 2116, 'width': 162, 'height': 37, 'conf': 96, 'text': 'Federal'}, {'level': 5, 'page_num': 1, 'block_num': 21, 'par_num': 1, 'line_num': 1, 'word_num': 3, 'left': 1422, 'top': 2116, 'width': 52, 'height': 37, 'conf': 96, 'text': 'do'}, {'level': 5, 'page_num': 1, 'block_num': 21, 'par_num': 1, 'line_num': 1, 'word_num': 4, 'left': 1493, 'top': 2116, 'width': 108, 'height': 37, 'conf': 96, 'text': 'Piauí'}, {'level': 5, 'page_num': 1, 'block_num': 21, 'par_num': 1, 'line_num': 2, 'word_num': 1, 'left': 935, 'top': 2185, 'width': 162, 'height': 35, 'conf': 96, 'text': 'Bolsista'}, {'level': 5, 'page_num': 1, 'block_num': 21, 'par_num': 1, 'line_num': 2, 'word_num': 2, 'left': 1114, 'top': 2185, 'width': 50, 'height': 35, 'conf': 96, 'text': 'de'}, {'level': 5, 'page_num': 1, 'block_num': 21, 'par_num': 1, 'line_num': 2, 'word_num': 3, 'left': 1182, 'top': 2185, 'width': 184, 'height': 43, 'conf': 96, 'text': 'Iniciação'}, {'level': 5, 'page_num': 1, 'block_num': 21, 'par_num': 1, 'line_num': 2, 'word_num': 4, 'left': 1383, 'top': 2184, 'width': 196, 'height': 36, 'conf': 95, 'text': 'Científica'}, {'level': 5, 'page_num': 1, 'block_num': 21, 'par_num': 1, 'line_num': 3, 'word_num': 1, 'left': 933, 'top': 2249, 'width': 128, 'height': 39, 'conf': 96, 'text': 'agosto'}, {'level': 5, 'page_num': 1, 'block_num': 21, 'par_num': 1, 'line_num': 3, 'word_num': 2, 'left': 1076, 'top': 2248, 'width': 46, 'height': 32, 'conf': 96, 'text': 'de'}, {'level': 5, 'page_num': 1, 'block_num': 21, 'par_num': 1, 'line_num': 3, 'word_num': 3, 'left': 1136, 'top': 2248, 'width': 94, 'height': 32, 'conf': 93, 'text': '2018'}, {'level': 5, 'page_num': 1, 'block_num': 21, 'par_num': 1, 'line_num': 3, 'word_num': 4, 'left': 1246, 'top': 2266, 'width': 12, 'height': 4, 'conf': 92, 'text': '-'}, {'level': 5, 'page_num': 1, 'block_num': 21, 'par_num': 1, 'line_num': 3, 'word_num': 5, 'left': 1273, 'top': 2249, 'width': 128, 'height': 39, 'conf': 96, 'text': 'agosto'}, {'level': 5, 'page_num': 1, 'block_num': 21, 'par_num': 1, 'line_num': 3, 'word_num': 6, 'left': 1417, 'top': 2248, 'width': 45, 'height': 32, 'conf': 96, 'text': 'de'}, {'level': 5, 'page_num': 1, 'block_num': 21, 'par_num': 1, 'line_num': 3, 'word_num': 7, 'left': 1476, 'top': 2248, 'width': 94, 'height': 32, 'conf': 96, 'text': '2020'}, {'level': 5, 'page_num': 1, 'block_num': 21, 'par_num': 1, 'line_num': 3, 'word_num': 8, 'left': 1588, 'top': 2247, 'width': 33, 'height': 41, 'conf': 96, 'text': '(2'}, {'level': 5, 'page_num': 1, 'block_num': 21, 'par_num': 1, 'line_num': 3, 'word_num': 9, 'left': 1638, 'top': 2256, 'width': 91, 'height': 24, 'conf': 96, 'text': 'anos'}, {'level': 5, 'page_num': 1, 'block_num': 21, 'par_num': 1, 'line_num': 3, 'word_num': 10, 'left': 1748, 'top': 2248, 'width': 11, 'height': 31, 'conf': 96, 'text': '1'}, {'level': 5, 'page_num': 1, 'block_num': 21, 'par_num': 1, 'line_num': 3, 'word_num': 11, 'left': 1782, 'top': 2247, 'width': 92, 'height': 41, 'conf': 96, 'text': 'mês)'}, {'level': 5, 'page_num': 1, 'block_num': 22, 'par_num': 1, 'line_num': 1, 'word_num': 1, 'left': 931, 'top': 2398, 'width': 162, 'height': 32, 'conf': 96, 'text': 'Atuando'}, {'level': 5, 'page_num': 1, 'block_num': 22, 'par_num': 1, 'line_num': 1, 'word_num': 2, 'left': 1108, 'top': 2406, 'width': 104, 'height': 24, 'conf': 96, 'text': 'como'}, {'level': 5, 'page_num': 1, 'block_num': 22, 'par_num': 1, 'line_num': 1, 'word_num': 3, 'left': 1228, 'top': 2398, 'width': 143, 'height': 32, 'conf': 96, 'text': 'bolsista'}, {'level': 5, 'page_num': 1, 'block_num': 22, 'par_num': 1, 'line_num': 1, 'word_num': 4, 'left': 1387, 'top': 2398, 'width': 46, 'height': 32, 'conf': 96, 'text': 'de'}, {'level': 5, 'page_num': 1, 'block_num': 22, 'par_num': 1, 'line_num': 1, 'word_num': 5, 'left': 1450, 'top': 2398, 'width': 168, 'height': 40, 'conf': 96, 'text': 'Iniciação'}, {'level': 5, 'page_num': 1, 'block_num': 22, 'par_num': 1, 'line_num': 1, 'word_num': 6, 'left': 1633, 'top': 2397, 'width': 168, 'height': 33, 'conf': 96, 'text': 'científica'}, {'level': 5, 'page_num': 1, 'block_num': 22, 'par_num': 1, 'line_num': 1, 'word_num': 7, 'left': 1819, 'top': 2406, 'width': 43, 'height': 24, 'conf': 96, 'text': 'na'}, {'level': 5, 'page_num': 1, 'block_num': 22, 'par_num': 1, 'line_num': 1, 'word_num': 8, 'left': 1879, 'top': 2398, 'width': 251, 'height': 32, 'conf': 96, 'text': 'Universidade'}, {'level': 5, 'page_num': 1, 'block_num': 22, 'par_num': 1, 'line_num': 1, 'word_num': 9, 'left': 2147, 'top': 2398, 'width': 142, 'height': 32, 'conf': 96, 'text': 'Federal'}, {'level': 5, 'page_num': 1, 'block_num': 22, 'par_num': 1, 'line_num': 1, 'word_num': 10, 'left': 2306, 'top': 2398, 'width': 45, 'height': 32, 'conf': 96, 'text': 'do'}, {'level': 5, 'page_num': 1, 'block_num': 23, 'par_num': 1, 'line_num': 1, 'word_num': 1, 'left': 934, 'top': 2472, 'width': 96, 'height': 33, 'conf': 96, 'text': 'Piauí'}, {'level': 5, 'page_num': 1, 'block_num': 23, 'par_num': 1, 'line_num': 1, 'word_num': 2, 'left': 1046, 'top': 2473, 'width': 197, 'height': 32, 'conf': 96, 'text': 'realizando'}, {'level': 5, 'page_num': 1, 'block_num': 23, 'par_num': 1, 'line_num': 1, 'word_num': 3, 'left': 1260, 'top': 2473, 'width': 192, 'height': 40, 'conf': 96, 'text': 'pesquisas'}, {'level': 5, 'page_num': 1, 'block_num': 23, 'par_num': 1, 'line_num': 1, 'word_num': 4, 'left': 1469, 'top': 2481, 'width': 43, 'height': 24, 'conf': 96, 'text': 'na'}, {'level': 5, 'page_num': 1, 'block_num': 23, 'par_num': 1, 'line_num': 1, 'word_num': 5, 'left': 1529, 'top': 2472, 'width': 83, 'height': 33, 'conf': 96, 'text': 'área'}, {'level': 5, 'page_num': 1, 'block_num': 23, 'par_num': 1, 'line_num': 1, 'word_num': 6, 'left': 1628, 'top': 2473, 'width': 46, 'height': 32, 'conf': 96, 'text': 'de'}, {'level': 5, 'page_num': 1, 'block_num': 23, 'par_num': 1, 'line_num': 1, 'word_num': 7, 'left': 1690, 'top': 2474, 'width': 295, 'height': 39, 'conf': 96, 'text': 'processamento'}, {'level': 5, 'page_num': 1, 'block_num': 23, 'par_num': 1, 'line_num': 1, 'word_num': 8, 'left': 2000, 'top': 2473, 'width': 45, 'height': 32, 'conf': 96, 'text': 'de'}, {'level': 5, 'page_num': 1, 'block_num': 23, 'par_num': 1, 'line_num': 1, 'word_num': 9, 'left': 2062, 'top': 2473, 'width': 170, 'height': 40, 'conf': 96, 'text': 'imagens.'}, {'level': 5, 'page_num': 1, 'block_num': 24, 'par_num': 1, 'line_num': 1, 'word_num': 1, 'left': 936, 'top': 2696, 'width': 288, 'height': 60, 'conf': 96, 'text': 'Formação'}, {'level': 5, 'page_num': 1, 'block_num': 24, 'par_num': 1, 'line_num': 1, 'word_num': 2, 'left': 1247, 'top': 2695, 'width': 312, 'height': 49, 'conf': 96, 'text': 'acadêmica'}, {'level': 5, 'page_num': 1, 'block_num': 25, 'par_num': 1, 'line_num': 1, 'word_num': 1, 'left': 935, 'top': 2813, 'width': 286, 'height': 37, 'conf': 96, 'text': 'Universidade'}, {'level': 5, 'page_num': 1, 'block_num': 25, 'par_num': 1, 'line_num': 1, 'word_num': 2, 'left': 1241, 'top': 2813, 'width': 162, 'height': 37, 'conf': 96, 'text': 'Federal'}, {'level': 5, 'page_num': 1, 'block_num': 25, 'par_num': 1, 'line_num': 1, 'word_num': 3, 'left': 1422, 'top': 2813, 'width': 52, 'height': 37, 'conf': 96, 'text': 'do'}, {'level': 5, 'page_num': 1, 'block_num': 25, 'par_num': 1, 'line_num': 1, 'word_num': 4, 'left': 1493, 'top': 2813, 'width': 108, 'height': 37, 'conf': 93, 'text': 'Piauí'}, {'level': 5, 'page_num': 1, 'block_num': 25, 'par_num': 1, 'line_num': 2, 'word_num': 1, 'left': 934, 'top': 2891, 'width': 251, 'height': 37, 'conf': 96, 'text': 'Bacharelado,'}, {'level': 5, 'page_num': 1, 'block_num': 25, 'par_num': 1, 'line_num': 2, 'word_num': 2, 'left': 1203, 'top': 2890, 'width': 176, 'height': 33, 'conf': 95, 'text': 'Sistemas'}, {'level': 5, 'page_num': 1, 'block_num': 25, 'par_num': 1, 'line_num': 2, 'word_num': 3, 'left': 1395, 'top': 2891, 'width': 45, 'height': 32, 'conf': 96, 'text': 'de'}, {'level': 5, 'page_num': 1, 'block_num': 25, 'par_num': 1, 'line_num': 2, 'word_num': 4, 'left': 1458, 'top': 2890, 'width': 213, 'height': 41, 'conf': 92, 'text': 'Informação'}, {'level': 5, 'page_num': 1, 'block_num': 25, 'par_num': 1, 'line_num': 2, 'word_num': 5, 'left': 1688, 'top': 2904, 'width': 4, 'height': 5, 'conf': 55, 'text': '-'}, {'level': 5, 'page_num': 1, 'block_num': 25, 'par_num': 1, 'line_num': 2, 'word_num': 6, 'left': 1712, 'top': 2890, 'width': 106, 'height': 41, 'conf': 93, 'text': '(2017'}, {'level': 5, 'page_num': 1, 'block_num': 25, 'par_num': 1, 'line_num': 2, 'word_num': 7, 'left': 1834, 'top': 2909, 'width': 12, 'height': 4, 'conf': 91, 'text': '-'}, {'level': 5, 'page_num': 1, 'block_num': 25, 'par_num': 1, 'line_num': 2, 'word_num': 8, 'left': 1860, 'top': 2890, 'width': 109, 'height': 41, 'conf': 95, 'text': '2021)'}, {'level': 5, 'page_num': 1, 'block_num': 26, 'par_num': 1, 'line_num': 1, 'word_num': 1, 'left': 935, 'top': 3025, 'width': 180, 'height': 37, 'conf': 96, 'text': 'Unidade'}, {'level': 5, 'page_num': 1, 'block_num': 26, 'par_num': 1, 'line_num': 1, 'word_num': 2, 'left': 1135, 'top': 3025, 'width': 163, 'height': 37, 'conf': 96, 'text': 'Escolar'}, {'level': 5, 'page_num': 1, 'block_num': 26, 'par_num': 1, 'line_num': 1, 'word_num': 3, 'left': 1316, 'top': 3025, 'width': 155, 'height': 46, 'conf': 96, 'text': 'Parque'}, {'level': 5, 'page_num': 1, 'block_num': 26, 'par_num': 1, 'line_num': 1, 'word_num': 4, 'left': 1491, 'top': 3025, 'width': 104, 'height': 37, 'conf': 92, 'text': 'Piaui'}, {'level': 5, 'page_num': 1, 'block_num': 26, 'par_num': 1, 'line_num': 1, 'word_num': 5, 'left': 1614, 'top': 3046, 'width': 13, 'height': 4, 'conf': 92, 'text': '-'}, {'level': 5, 'page_num': 1, 'block_num': 26, 'par_num': 1, 'line_num': 1, 'word_num': 6, 'left': 1646, 'top': 3025, 'width': 199, 'height': 37, 'conf': 90, 'text': 'UNESPP'}, {'level': 5, 'page_num': 1, 'block_num': 26, 'par_num': 1, 'line_num': 2, 'word_num': 1, 'left': 934, 'top': 3104, 'width': 129, 'height': 32, 'conf': 96, 'text': 'Ensino'}, {'level': 5, 'page_num': 1, 'block_num': 26, 'par_num': 1, 'line_num': 2, 'word_num': 2, 'left': 1080, 'top': 3103, 'width': 115, 'height': 33, 'conf': 93, 'text': 'Médio'}, {'level': 5, 'page_num': 1, 'block_num': 26, 'par_num': 1, 'line_num': 2, 'word_num': 3, 'left': 1224, 'top': 3117, 'width': 4, 'height': 5, 'conf': 88, 'text': '-'}, {'level': 5, 'page_num': 1, 'block_num': 26, 'par_num': 1, 'line_num': 2, 'word_num': 4, 'left': 1247, 'top': 3103, 'width': 107, 'height': 41, 'conf': 91, 'text': '(2014'}, {'level': 5, 'page_num': 1, 'block_num': 26, 'par_num': 1, 'line_num': 2, 'word_num': 5, 'left': 1369, 'top': 3122, 'width': 12, 'height': 4, 'conf': 91, 'text': '-'}, {'level': 5, 'page_num': 1, 'block_num': 26, 'par_num': 1, 'line_num': 2, 'word_num': 6, 'left': 1396, 'top': 3103, 'width': 108, 'height': 41, 'conf': 96, 'text': '2016)'}, {'level': 5, 'page_num': 1, 'block_num': 27, 'par_num': 1, 'line_num': 1, 'word_num': 1, 'left': 1602, 'top': 3215, 'width': 83, 'height': 35, 'conf': 96, 'text': 'Page'}, {'level': 5, 'page_num': 1, 'block_num': 27, 'par_num': 1, 'line_num': 1, 'word_num': 2, 'left': 1701, 'top': 3215, 'width': 10, 'height': 27, 'conf': 96, 'text': '1'}, {'level': 5, 'page_num': 1, 'block_num': 27, 'par_num': 1, 'line_num': 1, 'word_num': 3, 'left': 1730, 'top': 3215, 'width': 31, 'height': 28, 'conf': 88, 'text': 'of'}, {'level': 5, 'page_num': 1, 'block_num': 27, 'par_num': 1, 'line_num': 1, 'word_num': 4, 'left': 1771, 'top': 3215, 'width': 18, 'height': 27, 'conf': 88, 'text': '2'}, {'level': 5, 'page_num': 1, 'block_num': 1, 'par_num': 1, 'line_num': 1, 'word_num': 1, 'left': 1602, 'top': 3215, 'width': 83, 'height': 35, 'conf': 96, 'text': 'Page'}, {'level': 5, 'page_num': 1, 'block_num': 1, 'par_num': 1, 'line_num': 1, 'word_num': 2, 'left': 1698, 'top': 3215, 'width': 18, 'height': 27, 'conf': 96, 'text': '2'}, {'level': 5, 'page_num': 1, 'block_num': 1, 'par_num': 1, 'line_num': 1, 'word_num': 3, 'left': 1730, 'top': 3215, 'width': 31, 'height': 28, 'conf': 95, 'text': 'of'}, {'level': 5, 'page_num': 1, 'block_num': 1, 'par_num': 1, 'line_num': 1, 'word_num': 4, 'left': 1771, 'top': 3215, 'width': 18, 'height': 27, 'conf': 95, 'text': '2'}]\n"
    }
   ],
   "source": [
    "print(data)"
   ]
  },
  {
   "cell_type": "code",
   "execution_count": null,
   "metadata": {},
   "outputs": [],
   "source": []
  }
 ],
 "metadata": {
  "language_info": {
   "codemirror_mode": {
    "name": "ipython",
    "version": 3
   },
   "file_extension": ".py",
   "mimetype": "text/x-python",
   "name": "python",
   "nbconvert_exporter": "python",
   "pygments_lexer": "ipython3",
   "version": "3.9.4-final"
  },
  "orig_nbformat": 2,
  "kernelspec": {
   "name": "python39264bitocrconda238bbe84a5f447789964bb10004b897e",
   "display_name": "Python 3.9.2 64-bit ('ocr': conda)"
  }
 },
 "nbformat": 4,
 "nbformat_minor": 2
}